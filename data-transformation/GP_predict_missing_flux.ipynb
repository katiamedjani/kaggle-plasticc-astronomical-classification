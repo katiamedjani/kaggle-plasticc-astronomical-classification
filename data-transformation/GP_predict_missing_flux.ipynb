{
 "cells": [
  {
   "cell_type": "code",
   "execution_count": 1,
   "metadata": {},
   "outputs": [],
   "source": [
    "import pandas as pd\n",
    "import numpy as np\n",
    "from sklearn.model_selection import cross_validate\n",
    "from sklearn import preprocessing\n",
    "from sklearn.gaussian_process import GaussianProcessRegressor\n",
    "from sklearn.gaussian_process.kernels import DotProduct, WhiteKernel\n",
    "from sklearn.model_selection import train_test_split\n",
    "import matplotlib.pyplot as plt"
   ]
  },
  {
   "cell_type": "code",
   "execution_count": 2,
   "metadata": {},
   "outputs": [
    {
     "data": {
      "text/plain": [
       "['object_id', 'mjd', 'passband', 'flux', 'flux_err', 'detected']"
      ]
     },
     "execution_count": 2,
     "metadata": {},
     "output_type": "execute_result"
    }
   ],
   "source": [
    "dataset = \"../../all\"\n",
    "data = pd.read_csv(dataset+'/training_set.csv')\n",
    "list(data)"
   ]
  },
  {
   "cell_type": "code",
   "execution_count": 3,
   "metadata": {},
   "outputs": [],
   "source": [
    "#first make the mjd integer and if we have duplicated values take the means\n",
    "#put all this is a black box train it on GP then out put to a file\n",
    "#input to model object and pace\n",
    "#notes : TimeSeriesSplit"
   ]
  },
  {
   "cell_type": "code",
   "execution_count": 11,
   "metadata": {},
   "outputs": [],
   "source": [
    "objects = data.drop_duplicates(subset=['object_id'])['object_id']\n",
    "data['mjd'] = data['mjd'].astype(int)"
   ]
  },
  {
   "cell_type": "code",
   "execution_count": 20,
   "metadata": {
    "scrolled": true
   },
   "outputs": [],
   "source": [
    "def generateY(mjd,interval,maxVal):\n",
    "    y = list(range(0,maxVal+1,interval))\n",
    "    mjd = mjd.drop_duplicates()\n",
    "    l = mjd.values.tolist()\n",
    "    mjdToPredict = list(set(y) - set(l))\n",
    "    return mjdToPredict"
   ]
  },
  {
   "cell_type": "code",
   "execution_count": 21,
   "metadata": {},
   "outputs": [],
   "source": [
    "def gaussianFill(objectDf,maxVal,interval):\n",
    "    grouped = data.groupby(['mjd','passband']).mean()\n",
    "    grouped.reset_index(level=['passband','mjd'],inplace=True)\n",
    "    grouped.mjd = grouped.mjd - grouped.mjd.min()\n",
    "    predict = generateY(grouped.mjd,interval,maxVal)\n",
    "    result = pd.DataFrame({'object_id':[],'mjd':[],'passband':[],'flux':[],'flux_err':[]})\n",
    "    frames = []\n",
    "    for i in range(0,6):\n",
    "        flux = []\n",
    "        filtered = grouped[grouped['passband'] == i ]\n",
    "        X_train = filtered[['mjd']]\n",
    "        y_train = filtered[['flux','flux_err']]\n",
    "        kernel = DotProduct() + WhiteKernel()\n",
    "        gaussian = GaussianProcessRegressor()\n",
    "        gaussian.fit(X_train,y_train)\n",
    "        flux = gaussian.predict(pd.DataFrame(predict))\n",
    "        ids = [objectDf['object_id'].iloc[0]]*len(flux)\n",
    "        passband = [i]*len(flux)\n",
    "        df = pd.DataFrame({'object_id':ids,'passband':passband,'mjd':predict,'flux':[i[0] for i in flux],'flux_err':[i[1] for i in flux]})\n",
    "        frames = frames + [df]\n",
    "    result = pd.concat(frames)\n",
    "    return pd.concat(frames)"
   ]
  },
  {
   "cell_type": "code",
   "execution_count": 22,
   "metadata": {},
   "outputs": [],
   "source": [
    "result = pd.DataFrame({'object_id':[],'mjd':[],'passband':[],'flux':[],'flux_err':[]})\n",
    "predictions = []\n",
    "for o in objects:\n",
    "    predictions.append(gaussianFill(data[data['object_id'] == o ],data.mjd.max() - data.mjd.min(),1))\n",
    "    break;\n",
    "result = pd.concat(predictions)\n",
    "result.to_csv(dataset+'/flux_predictions.csv')"
   ]
  },
  {
   "cell_type": "code",
   "execution_count": null,
   "metadata": {},
   "outputs": [],
   "source": []
  }
 ],
 "metadata": {
  "kernelspec": {
   "display_name": "Python 3",
   "language": "python",
   "name": "python3"
  },
  "language_info": {
   "codemirror_mode": {
    "name": "ipython",
    "version": 3
   },
   "file_extension": ".py",
   "mimetype": "text/x-python",
   "name": "python",
   "nbconvert_exporter": "python",
   "pygments_lexer": "ipython3",
   "version": "3.6.7"
  }
 },
 "nbformat": 4,
 "nbformat_minor": 2
}
